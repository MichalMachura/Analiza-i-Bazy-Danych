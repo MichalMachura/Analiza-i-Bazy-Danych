{
 "cells": [
  {
   "cell_type": "code",
   "execution_count": 1,
   "metadata": {},
   "outputs": [],
   "source": [
    "import pandas as pd\n",
    "\n",
    "data = pd.read_csv('../Orginal Data/ex2/InsectSprays.csv')\n",
    "\n"
   ]
  },
  {
   "cell_type": "code",
   "execution_count": 2,
   "metadata": {},
   "outputs": [
    {
     "data": {
      "text/html": [
       "<div>\n",
       "<style scoped>\n",
       "    .dataframe tbody tr th:only-of-type {\n",
       "        vertical-align: middle;\n",
       "    }\n",
       "\n",
       "    .dataframe tbody tr th {\n",
       "        vertical-align: top;\n",
       "    }\n",
       "\n",
       "    .dataframe thead th {\n",
       "        text-align: right;\n",
       "    }\n",
       "</style>\n",
       "<table border=\"1\" class=\"dataframe\">\n",
       "  <thead>\n",
       "    <tr style=\"text-align: right;\">\n",
       "      <th></th>\n",
       "      <th>Unnamed: 0</th>\n",
       "      <th>count</th>\n",
       "      <th>spray</th>\n",
       "    </tr>\n",
       "  </thead>\n",
       "  <tbody>\n",
       "    <tr>\n",
       "      <td>0</td>\n",
       "      <td>1</td>\n",
       "      <td>10</td>\n",
       "      <td>A</td>\n",
       "    </tr>\n",
       "    <tr>\n",
       "      <td>1</td>\n",
       "      <td>2</td>\n",
       "      <td>7</td>\n",
       "      <td>A</td>\n",
       "    </tr>\n",
       "    <tr>\n",
       "      <td>2</td>\n",
       "      <td>3</td>\n",
       "      <td>20</td>\n",
       "      <td>A</td>\n",
       "    </tr>\n",
       "    <tr>\n",
       "      <td>3</td>\n",
       "      <td>4</td>\n",
       "      <td>14</td>\n",
       "      <td>A</td>\n",
       "    </tr>\n",
       "    <tr>\n",
       "      <td>4</td>\n",
       "      <td>5</td>\n",
       "      <td>14</td>\n",
       "      <td>A</td>\n",
       "    </tr>\n",
       "  </tbody>\n",
       "</table>\n",
       "</div>"
      ],
      "text/plain": [
       "   Unnamed: 0  count spray\n",
       "0           1     10     A\n",
       "1           2      7     A\n",
       "2           3     20     A\n",
       "3           4     14     A\n",
       "4           5     14     A"
      ]
     },
     "execution_count": 2,
     "metadata": {},
     "output_type": "execute_result"
    }
   ],
   "source": [
    "data.head()"
   ]
  },
  {
   "cell_type": "code",
   "execution_count": 18,
   "metadata": {},
   "outputs": [
    {
     "data": {
      "text/html": [
       "<div>\n",
       "<style scoped>\n",
       "    .dataframe tbody tr th:only-of-type {\n",
       "        vertical-align: middle;\n",
       "    }\n",
       "\n",
       "    .dataframe tbody tr th {\n",
       "        vertical-align: top;\n",
       "    }\n",
       "\n",
       "    .dataframe thead th {\n",
       "        text-align: right;\n",
       "    }\n",
       "</style>\n",
       "<table border=\"1\" class=\"dataframe\">\n",
       "  <thead>\n",
       "    <tr style=\"text-align: right;\">\n",
       "      <th></th>\n",
       "      <th>count</th>\n",
       "      <th>spray</th>\n",
       "    </tr>\n",
       "  </thead>\n",
       "  <tbody>\n",
       "    <tr>\n",
       "      <td>0</td>\n",
       "      <td>10</td>\n",
       "      <td>A</td>\n",
       "    </tr>\n",
       "    <tr>\n",
       "      <td>1</td>\n",
       "      <td>7</td>\n",
       "      <td>A</td>\n",
       "    </tr>\n",
       "    <tr>\n",
       "      <td>2</td>\n",
       "      <td>20</td>\n",
       "      <td>A</td>\n",
       "    </tr>\n",
       "    <tr>\n",
       "      <td>3</td>\n",
       "      <td>14</td>\n",
       "      <td>A</td>\n",
       "    </tr>\n",
       "    <tr>\n",
       "      <td>4</td>\n",
       "      <td>14</td>\n",
       "      <td>A</td>\n",
       "    </tr>\n",
       "  </tbody>\n",
       "</table>\n",
       "</div>"
      ],
      "text/plain": [
       "   count spray\n",
       "0     10     A\n",
       "1      7     A\n",
       "2     20     A\n",
       "3     14     A\n",
       "4     14     A"
      ]
     },
     "execution_count": 18,
     "metadata": {},
     "output_type": "execute_result"
    }
   ],
   "source": [
    "# remove first column, that was index unnecessary here \n",
    "data = data.drop(columns='Unnamed: 0').head()"
   ]
  },
  {
   "cell_type": "code",
   "execution_count": 84,
   "metadata": {},
   "outputs": [],
   "source": [
    "# normalize to 0-100%\n",
    "max_value = data['count'].max()\n",
    "data['count'] = data['count'].multiply(-100/max_value).add(100)"
   ]
  },
  {
   "cell_type": "code",
   "execution_count": 85,
   "metadata": {},
   "outputs": [
    {
     "data": {
      "text/html": [
       "<div>\n",
       "<style scoped>\n",
       "    .dataframe tbody tr th:only-of-type {\n",
       "        vertical-align: middle;\n",
       "    }\n",
       "\n",
       "    .dataframe tbody tr th {\n",
       "        vertical-align: top;\n",
       "    }\n",
       "\n",
       "    .dataframe thead tr th {\n",
       "        text-align: left;\n",
       "    }\n",
       "\n",
       "    .dataframe thead tr:last-of-type th {\n",
       "        text-align: right;\n",
       "    }\n",
       "</style>\n",
       "<table border=\"1\" class=\"dataframe\">\n",
       "  <thead>\n",
       "    <tr>\n",
       "      <th></th>\n",
       "      <th colspan=\"8\" halign=\"left\">Unnamed: 0</th>\n",
       "      <th colspan=\"8\" halign=\"left\">count</th>\n",
       "    </tr>\n",
       "    <tr>\n",
       "      <th></th>\n",
       "      <th>count</th>\n",
       "      <th>mean</th>\n",
       "      <th>std</th>\n",
       "      <th>min</th>\n",
       "      <th>25%</th>\n",
       "      <th>50%</th>\n",
       "      <th>75%</th>\n",
       "      <th>max</th>\n",
       "      <th>count</th>\n",
       "      <th>mean</th>\n",
       "      <th>std</th>\n",
       "      <th>min</th>\n",
       "      <th>25%</th>\n",
       "      <th>50%</th>\n",
       "      <th>75%</th>\n",
       "      <th>max</th>\n",
       "    </tr>\n",
       "    <tr>\n",
       "      <th>spray</th>\n",
       "      <th></th>\n",
       "      <th></th>\n",
       "      <th></th>\n",
       "      <th></th>\n",
       "      <th></th>\n",
       "      <th></th>\n",
       "      <th></th>\n",
       "      <th></th>\n",
       "      <th></th>\n",
       "      <th></th>\n",
       "      <th></th>\n",
       "      <th></th>\n",
       "      <th></th>\n",
       "      <th></th>\n",
       "      <th></th>\n",
       "      <th></th>\n",
       "    </tr>\n",
       "  </thead>\n",
       "  <tbody>\n",
       "    <tr>\n",
       "      <td>A</td>\n",
       "      <td>12.0</td>\n",
       "      <td>6.5</td>\n",
       "      <td>3.605551</td>\n",
       "      <td>1.0</td>\n",
       "      <td>3.75</td>\n",
       "      <td>6.5</td>\n",
       "      <td>9.25</td>\n",
       "      <td>12.0</td>\n",
       "      <td>12.0</td>\n",
       "      <td>44.230769</td>\n",
       "      <td>18.151535</td>\n",
       "      <td>11.538462</td>\n",
       "      <td>31.730769</td>\n",
       "      <td>46.153846</td>\n",
       "      <td>55.769231</td>\n",
       "      <td>73.076923</td>\n",
       "    </tr>\n",
       "    <tr>\n",
       "      <td>B</td>\n",
       "      <td>12.0</td>\n",
       "      <td>18.5</td>\n",
       "      <td>3.605551</td>\n",
       "      <td>13.0</td>\n",
       "      <td>15.75</td>\n",
       "      <td>18.5</td>\n",
       "      <td>21.25</td>\n",
       "      <td>24.0</td>\n",
       "      <td>12.0</td>\n",
       "      <td>41.025641</td>\n",
       "      <td>16.427366</td>\n",
       "      <td>19.230769</td>\n",
       "      <td>32.692308</td>\n",
       "      <td>36.538462</td>\n",
       "      <td>51.923077</td>\n",
       "      <td>73.076923</td>\n",
       "    </tr>\n",
       "    <tr>\n",
       "      <td>C</td>\n",
       "      <td>12.0</td>\n",
       "      <td>30.5</td>\n",
       "      <td>3.605551</td>\n",
       "      <td>25.0</td>\n",
       "      <td>27.75</td>\n",
       "      <td>30.5</td>\n",
       "      <td>33.25</td>\n",
       "      <td>36.0</td>\n",
       "      <td>12.0</td>\n",
       "      <td>91.987179</td>\n",
       "      <td>7.597021</td>\n",
       "      <td>73.076923</td>\n",
       "      <td>88.461538</td>\n",
       "      <td>94.230769</td>\n",
       "      <td>96.153846</td>\n",
       "      <td>100.000000</td>\n",
       "    </tr>\n",
       "    <tr>\n",
       "      <td>D</td>\n",
       "      <td>12.0</td>\n",
       "      <td>42.5</td>\n",
       "      <td>3.605551</td>\n",
       "      <td>37.0</td>\n",
       "      <td>39.75</td>\n",
       "      <td>42.5</td>\n",
       "      <td>45.25</td>\n",
       "      <td>48.0</td>\n",
       "      <td>12.0</td>\n",
       "      <td>81.089744</td>\n",
       "      <td>9.627033</td>\n",
       "      <td>53.846154</td>\n",
       "      <td>80.769231</td>\n",
       "      <td>80.769231</td>\n",
       "      <td>85.576923</td>\n",
       "      <td>92.307692</td>\n",
       "    </tr>\n",
       "    <tr>\n",
       "      <td>E</td>\n",
       "      <td>12.0</td>\n",
       "      <td>54.5</td>\n",
       "      <td>3.605551</td>\n",
       "      <td>49.0</td>\n",
       "      <td>51.75</td>\n",
       "      <td>54.5</td>\n",
       "      <td>57.25</td>\n",
       "      <td>60.0</td>\n",
       "      <td>12.0</td>\n",
       "      <td>86.538462</td>\n",
       "      <td>6.661734</td>\n",
       "      <td>76.923077</td>\n",
       "      <td>80.769231</td>\n",
       "      <td>88.461538</td>\n",
       "      <td>89.423077</td>\n",
       "      <td>96.153846</td>\n",
       "    </tr>\n",
       "    <tr>\n",
       "      <td>F</td>\n",
       "      <td>12.0</td>\n",
       "      <td>66.5</td>\n",
       "      <td>3.605551</td>\n",
       "      <td>61.0</td>\n",
       "      <td>63.75</td>\n",
       "      <td>66.5</td>\n",
       "      <td>69.25</td>\n",
       "      <td>72.0</td>\n",
       "      <td>12.0</td>\n",
       "      <td>35.897436</td>\n",
       "      <td>23.897606</td>\n",
       "      <td>0.000000</td>\n",
       "      <td>13.461538</td>\n",
       "      <td>42.307692</td>\n",
       "      <td>51.923077</td>\n",
       "      <td>65.384615</td>\n",
       "    </tr>\n",
       "  </tbody>\n",
       "</table>\n",
       "</div>"
      ],
      "text/plain": [
       "      Unnamed: 0                                                 count  \\\n",
       "           count  mean       std   min    25%   50%    75%   max count   \n",
       "spray                                                                    \n",
       "A           12.0   6.5  3.605551   1.0   3.75   6.5   9.25  12.0  12.0   \n",
       "B           12.0  18.5  3.605551  13.0  15.75  18.5  21.25  24.0  12.0   \n",
       "C           12.0  30.5  3.605551  25.0  27.75  30.5  33.25  36.0  12.0   \n",
       "D           12.0  42.5  3.605551  37.0  39.75  42.5  45.25  48.0  12.0   \n",
       "E           12.0  54.5  3.605551  49.0  51.75  54.5  57.25  60.0  12.0   \n",
       "F           12.0  66.5  3.605551  61.0  63.75  66.5  69.25  72.0  12.0   \n",
       "\n",
       "                                                                         \\\n",
       "            mean        std        min        25%        50%        75%   \n",
       "spray                                                                     \n",
       "A      44.230769  18.151535  11.538462  31.730769  46.153846  55.769231   \n",
       "B      41.025641  16.427366  19.230769  32.692308  36.538462  51.923077   \n",
       "C      91.987179   7.597021  73.076923  88.461538  94.230769  96.153846   \n",
       "D      81.089744   9.627033  53.846154  80.769231  80.769231  85.576923   \n",
       "E      86.538462   6.661734  76.923077  80.769231  88.461538  89.423077   \n",
       "F      35.897436  23.897606   0.000000  13.461538  42.307692  51.923077   \n",
       "\n",
       "                   \n",
       "              max  \n",
       "spray              \n",
       "A       73.076923  \n",
       "B       73.076923  \n",
       "C      100.000000  \n",
       "D       92.307692  \n",
       "E       96.153846  \n",
       "F       65.384615  "
      ]
     },
     "execution_count": 85,
     "metadata": {},
     "output_type": "execute_result"
    }
   ],
   "source": [
    "# short description for each group\n",
    "grouped = data.groupby('spray')\n",
    "grouped.describe()"
   ]
  },
  {
   "cell_type": "code",
   "execution_count": 86,
   "metadata": {},
   "outputs": [],
   "source": [
    "import plotly.express as px\n",
    "import plotly.graph_objs as go\n"
   ]
  },
  {
   "cell_type": "code",
   "execution_count": 87,
   "metadata": {},
   "outputs": [
    {
     "data": {
      "application/vnd.plotly.v1+json": {
       "config": {
        "plotlyServerURL": "https://plot.ly"
       },
       "data": [
        {
         "hoverlabel": {
          "namelength": 0
         },
         "hovertemplate": "spray=A<br>count=%{y}",
         "legendgroup": "spray=A",
         "marker": {
          "color": "#636efa",
          "symbol": "circle"
         },
         "mode": "markers",
         "name": "spray=A",
         "showlegend": true,
         "type": "scatter",
         "xaxis": "x",
         "y": [
          61.53846153846154,
          73.07692307692308,
          23.07692307692308,
          46.15384615384615,
          46.15384615384615,
          53.84615384615385,
          61.53846153846154,
          11.538461538461533,
          34.61538461538461,
          23.07692307692308,
          46.15384615384615,
          50
         ],
         "yaxis": "y"
        },
        {
         "alignmentgroup": "True",
         "hoverlabel": {
          "namelength": 0
         },
         "hovertemplate": "spray=A<br>count=%{y}",
         "legendgroup": "spray=A",
         "marker": {
          "color": "#636efa",
          "symbol": "circle"
         },
         "name": "spray=A",
         "notched": true,
         "offsetgroup": "spray=A",
         "showlegend": false,
         "type": "box",
         "xaxis": "x2",
         "y": [
          61.53846153846154,
          73.07692307692308,
          23.07692307692308,
          46.15384615384615,
          46.15384615384615,
          53.84615384615385,
          61.53846153846154,
          11.538461538461533,
          34.61538461538461,
          23.07692307692308,
          46.15384615384615,
          50
         ],
         "yaxis": "y2"
        },
        {
         "hoverlabel": {
          "namelength": 0
         },
         "hovertemplate": "spray=A",
         "legendgroup": "spray=A",
         "marker": {
          "color": "#636efa",
          "symbol": "circle"
         },
         "mode": "lines",
         "name": "spray=A",
         "showlegend": false,
         "type": "scatter",
         "xaxis": "x",
         "yaxis": "y"
        },
        {
         "hoverlabel": {
          "namelength": 0
         },
         "hovertemplate": "spray=B<br>count=%{y}",
         "legendgroup": "spray=B",
         "marker": {
          "color": "#EF553B",
          "symbol": "circle"
         },
         "mode": "markers",
         "name": "spray=B",
         "showlegend": true,
         "type": "scatter",
         "xaxis": "x",
         "y": [
          57.69230769230769,
          34.61538461538461,
          19.230769230769226,
          57.69230769230769,
          38.46153846153846,
          46.15384615384615,
          34.61538461538461,
          34.61538461538461,
          26.92307692307692,
          19.230769230769226,
          73.07692307692308,
          50
         ],
         "yaxis": "y"
        },
        {
         "alignmentgroup": "True",
         "hoverlabel": {
          "namelength": 0
         },
         "hovertemplate": "spray=B<br>count=%{y}",
         "legendgroup": "spray=B",
         "marker": {
          "color": "#EF553B",
          "symbol": "circle"
         },
         "name": "spray=B",
         "notched": true,
         "offsetgroup": "spray=B",
         "showlegend": false,
         "type": "box",
         "xaxis": "x2",
         "y": [
          57.69230769230769,
          34.61538461538461,
          19.230769230769226,
          57.69230769230769,
          38.46153846153846,
          46.15384615384615,
          34.61538461538461,
          34.61538461538461,
          26.92307692307692,
          19.230769230769226,
          73.07692307692308,
          50
         ],
         "yaxis": "y2"
        },
        {
         "hoverlabel": {
          "namelength": 0
         },
         "hovertemplate": "spray=B",
         "legendgroup": "spray=B",
         "marker": {
          "color": "#EF553B",
          "symbol": "circle"
         },
         "mode": "lines",
         "name": "spray=B",
         "showlegend": false,
         "type": "scatter",
         "xaxis": "x",
         "yaxis": "y"
        },
        {
         "hoverlabel": {
          "namelength": 0
         },
         "hovertemplate": "spray=C<br>count=%{y}",
         "legendgroup": "spray=C",
         "marker": {
          "color": "#00cc96",
          "symbol": "circle"
         },
         "mode": "markers",
         "name": "spray=C",
         "showlegend": true,
         "type": "scatter",
         "xaxis": "x",
         "y": [
          100,
          96.15384615384616,
          73.07692307692308,
          92.3076923076923,
          88.46153846153847,
          96.15384615384616,
          92.3076923076923,
          96.15384615384616,
          88.46153846153847,
          100,
          96.15384615384616,
          84.61538461538461
         ],
         "yaxis": "y"
        },
        {
         "alignmentgroup": "True",
         "hoverlabel": {
          "namelength": 0
         },
         "hovertemplate": "spray=C<br>count=%{y}",
         "legendgroup": "spray=C",
         "marker": {
          "color": "#00cc96",
          "symbol": "circle"
         },
         "name": "spray=C",
         "notched": true,
         "offsetgroup": "spray=C",
         "showlegend": false,
         "type": "box",
         "xaxis": "x2",
         "y": [
          100,
          96.15384615384616,
          73.07692307692308,
          92.3076923076923,
          88.46153846153847,
          96.15384615384616,
          92.3076923076923,
          96.15384615384616,
          88.46153846153847,
          100,
          96.15384615384616,
          84.61538461538461
         ],
         "yaxis": "y2"
        },
        {
         "hoverlabel": {
          "namelength": 0
         },
         "hovertemplate": "spray=C",
         "legendgroup": "spray=C",
         "marker": {
          "color": "#00cc96",
          "symbol": "circle"
         },
         "mode": "lines",
         "name": "spray=C",
         "showlegend": false,
         "type": "scatter",
         "xaxis": "x",
         "yaxis": "y"
        },
        {
         "hoverlabel": {
          "namelength": 0
         },
         "hovertemplate": "spray=D<br>count=%{y}",
         "legendgroup": "spray=D",
         "marker": {
          "color": "#ab63fa",
          "symbol": "circle"
         },
         "mode": "markers",
         "name": "spray=D",
         "showlegend": true,
         "type": "scatter",
         "xaxis": "x",
         "y": [
          88.46153846153847,
          80.76923076923077,
          53.84615384615385,
          76.92307692307692,
          84.61538461538461,
          88.46153846153847,
          80.76923076923077,
          80.76923076923077,
          80.76923076923077,
          80.76923076923077,
          92.3076923076923,
          84.61538461538461
         ],
         "yaxis": "y"
        },
        {
         "alignmentgroup": "True",
         "hoverlabel": {
          "namelength": 0
         },
         "hovertemplate": "spray=D<br>count=%{y}",
         "legendgroup": "spray=D",
         "marker": {
          "color": "#ab63fa",
          "symbol": "circle"
         },
         "name": "spray=D",
         "notched": true,
         "offsetgroup": "spray=D",
         "showlegend": false,
         "type": "box",
         "xaxis": "x2",
         "y": [
          88.46153846153847,
          80.76923076923077,
          53.84615384615385,
          76.92307692307692,
          84.61538461538461,
          88.46153846153847,
          80.76923076923077,
          80.76923076923077,
          80.76923076923077,
          80.76923076923077,
          92.3076923076923,
          84.61538461538461
         ],
         "yaxis": "y2"
        },
        {
         "hoverlabel": {
          "namelength": 0
         },
         "hovertemplate": "spray=D",
         "legendgroup": "spray=D",
         "marker": {
          "color": "#ab63fa",
          "symbol": "circle"
         },
         "mode": "lines",
         "name": "spray=D",
         "showlegend": false,
         "type": "scatter",
         "xaxis": "x",
         "yaxis": "y"
        },
        {
         "hoverlabel": {
          "namelength": 0
         },
         "hovertemplate": "spray=E<br>count=%{y}",
         "legendgroup": "spray=E",
         "marker": {
          "color": "#FFA15A",
          "symbol": "circle"
         },
         "mode": "markers",
         "name": "spray=E",
         "showlegend": true,
         "type": "scatter",
         "xaxis": "x",
         "y": [
          88.46153846153847,
          80.76923076923077,
          88.46153846153847,
          80.76923076923077,
          88.46153846153847,
          76.92307692307692,
          96.15384615384616,
          96.15384615384616,
          88.46153846153847,
          92.3076923076923,
          76.92307692307692,
          84.61538461538461
         ],
         "yaxis": "y"
        },
        {
         "alignmentgroup": "True",
         "hoverlabel": {
          "namelength": 0
         },
         "hovertemplate": "spray=E<br>count=%{y}",
         "legendgroup": "spray=E",
         "marker": {
          "color": "#FFA15A",
          "symbol": "circle"
         },
         "name": "spray=E",
         "notched": true,
         "offsetgroup": "spray=E",
         "showlegend": false,
         "type": "box",
         "xaxis": "x2",
         "y": [
          88.46153846153847,
          80.76923076923077,
          88.46153846153847,
          80.76923076923077,
          88.46153846153847,
          76.92307692307692,
          96.15384615384616,
          96.15384615384616,
          88.46153846153847,
          92.3076923076923,
          76.92307692307692,
          84.61538461538461
         ],
         "yaxis": "y2"
        },
        {
         "hoverlabel": {
          "namelength": 0
         },
         "hovertemplate": "spray=E",
         "legendgroup": "spray=E",
         "marker": {
          "color": "#FFA15A",
          "symbol": "circle"
         },
         "mode": "lines",
         "name": "spray=E",
         "showlegend": false,
         "type": "scatter",
         "xaxis": "x",
         "yaxis": "y"
        },
        {
         "hoverlabel": {
          "namelength": 0
         },
         "hovertemplate": "spray=F<br>count=%{y}",
         "legendgroup": "spray=F",
         "marker": {
          "color": "#19d3f3",
          "symbol": "circle"
         },
         "mode": "markers",
         "name": "spray=F",
         "showlegend": true,
         "type": "scatter",
         "xaxis": "x",
         "y": [
          57.69230769230769,
          65.38461538461539,
          42.30769230769231,
          15.384615384615387,
          42.30769230769231,
          38.46153846153846,
          50,
          61.53846153846154,
          0,
          0,
          7.692307692307693,
          50
         ],
         "yaxis": "y"
        },
        {
         "alignmentgroup": "True",
         "hoverlabel": {
          "namelength": 0
         },
         "hovertemplate": "spray=F<br>count=%{y}",
         "legendgroup": "spray=F",
         "marker": {
          "color": "#19d3f3",
          "symbol": "circle"
         },
         "name": "spray=F",
         "notched": true,
         "offsetgroup": "spray=F",
         "showlegend": false,
         "type": "box",
         "xaxis": "x2",
         "y": [
          57.69230769230769,
          65.38461538461539,
          42.30769230769231,
          15.384615384615387,
          42.30769230769231,
          38.46153846153846,
          50,
          61.53846153846154,
          0,
          0,
          7.692307692307693,
          50
         ],
         "yaxis": "y2"
        },
        {
         "hoverlabel": {
          "namelength": 0
         },
         "hovertemplate": "spray=F",
         "legendgroup": "spray=F",
         "marker": {
          "color": "#19d3f3",
          "symbol": "circle"
         },
         "mode": "lines",
         "name": "spray=F",
         "showlegend": false,
         "type": "scatter",
         "xaxis": "x",
         "yaxis": "y"
        }
       ],
       "layout": {
        "height": 600,
        "legend": {
         "tracegroupgap": 0
        },
        "margin": {
         "t": 60
        },
        "template": {
         "data": {
          "bar": [
           {
            "error_x": {
             "color": "#2a3f5f"
            },
            "error_y": {
             "color": "#2a3f5f"
            },
            "marker": {
             "line": {
              "color": "#E5ECF6",
              "width": 0.5
             }
            },
            "type": "bar"
           }
          ],
          "barpolar": [
           {
            "marker": {
             "line": {
              "color": "#E5ECF6",
              "width": 0.5
             }
            },
            "type": "barpolar"
           }
          ],
          "carpet": [
           {
            "aaxis": {
             "endlinecolor": "#2a3f5f",
             "gridcolor": "white",
             "linecolor": "white",
             "minorgridcolor": "white",
             "startlinecolor": "#2a3f5f"
            },
            "baxis": {
             "endlinecolor": "#2a3f5f",
             "gridcolor": "white",
             "linecolor": "white",
             "minorgridcolor": "white",
             "startlinecolor": "#2a3f5f"
            },
            "type": "carpet"
           }
          ],
          "choropleth": [
           {
            "colorbar": {
             "outlinewidth": 0,
             "ticks": ""
            },
            "type": "choropleth"
           }
          ],
          "contour": [
           {
            "colorbar": {
             "outlinewidth": 0,
             "ticks": ""
            },
            "colorscale": [
             [
              0,
              "#0d0887"
             ],
             [
              0.1111111111111111,
              "#46039f"
             ],
             [
              0.2222222222222222,
              "#7201a8"
             ],
             [
              0.3333333333333333,
              "#9c179e"
             ],
             [
              0.4444444444444444,
              "#bd3786"
             ],
             [
              0.5555555555555556,
              "#d8576b"
             ],
             [
              0.6666666666666666,
              "#ed7953"
             ],
             [
              0.7777777777777778,
              "#fb9f3a"
             ],
             [
              0.8888888888888888,
              "#fdca26"
             ],
             [
              1,
              "#f0f921"
             ]
            ],
            "type": "contour"
           }
          ],
          "contourcarpet": [
           {
            "colorbar": {
             "outlinewidth": 0,
             "ticks": ""
            },
            "type": "contourcarpet"
           }
          ],
          "heatmap": [
           {
            "colorbar": {
             "outlinewidth": 0,
             "ticks": ""
            },
            "colorscale": [
             [
              0,
              "#0d0887"
             ],
             [
              0.1111111111111111,
              "#46039f"
             ],
             [
              0.2222222222222222,
              "#7201a8"
             ],
             [
              0.3333333333333333,
              "#9c179e"
             ],
             [
              0.4444444444444444,
              "#bd3786"
             ],
             [
              0.5555555555555556,
              "#d8576b"
             ],
             [
              0.6666666666666666,
              "#ed7953"
             ],
             [
              0.7777777777777778,
              "#fb9f3a"
             ],
             [
              0.8888888888888888,
              "#fdca26"
             ],
             [
              1,
              "#f0f921"
             ]
            ],
            "type": "heatmap"
           }
          ],
          "heatmapgl": [
           {
            "colorbar": {
             "outlinewidth": 0,
             "ticks": ""
            },
            "colorscale": [
             [
              0,
              "#0d0887"
             ],
             [
              0.1111111111111111,
              "#46039f"
             ],
             [
              0.2222222222222222,
              "#7201a8"
             ],
             [
              0.3333333333333333,
              "#9c179e"
             ],
             [
              0.4444444444444444,
              "#bd3786"
             ],
             [
              0.5555555555555556,
              "#d8576b"
             ],
             [
              0.6666666666666666,
              "#ed7953"
             ],
             [
              0.7777777777777778,
              "#fb9f3a"
             ],
             [
              0.8888888888888888,
              "#fdca26"
             ],
             [
              1,
              "#f0f921"
             ]
            ],
            "type": "heatmapgl"
           }
          ],
          "histogram": [
           {
            "marker": {
             "colorbar": {
              "outlinewidth": 0,
              "ticks": ""
             }
            },
            "type": "histogram"
           }
          ],
          "histogram2d": [
           {
            "colorbar": {
             "outlinewidth": 0,
             "ticks": ""
            },
            "colorscale": [
             [
              0,
              "#0d0887"
             ],
             [
              0.1111111111111111,
              "#46039f"
             ],
             [
              0.2222222222222222,
              "#7201a8"
             ],
             [
              0.3333333333333333,
              "#9c179e"
             ],
             [
              0.4444444444444444,
              "#bd3786"
             ],
             [
              0.5555555555555556,
              "#d8576b"
             ],
             [
              0.6666666666666666,
              "#ed7953"
             ],
             [
              0.7777777777777778,
              "#fb9f3a"
             ],
             [
              0.8888888888888888,
              "#fdca26"
             ],
             [
              1,
              "#f0f921"
             ]
            ],
            "type": "histogram2d"
           }
          ],
          "histogram2dcontour": [
           {
            "colorbar": {
             "outlinewidth": 0,
             "ticks": ""
            },
            "colorscale": [
             [
              0,
              "#0d0887"
             ],
             [
              0.1111111111111111,
              "#46039f"
             ],
             [
              0.2222222222222222,
              "#7201a8"
             ],
             [
              0.3333333333333333,
              "#9c179e"
             ],
             [
              0.4444444444444444,
              "#bd3786"
             ],
             [
              0.5555555555555556,
              "#d8576b"
             ],
             [
              0.6666666666666666,
              "#ed7953"
             ],
             [
              0.7777777777777778,
              "#fb9f3a"
             ],
             [
              0.8888888888888888,
              "#fdca26"
             ],
             [
              1,
              "#f0f921"
             ]
            ],
            "type": "histogram2dcontour"
           }
          ],
          "mesh3d": [
           {
            "colorbar": {
             "outlinewidth": 0,
             "ticks": ""
            },
            "type": "mesh3d"
           }
          ],
          "parcoords": [
           {
            "line": {
             "colorbar": {
              "outlinewidth": 0,
              "ticks": ""
             }
            },
            "type": "parcoords"
           }
          ],
          "pie": [
           {
            "automargin": true,
            "type": "pie"
           }
          ],
          "scatter": [
           {
            "marker": {
             "colorbar": {
              "outlinewidth": 0,
              "ticks": ""
             }
            },
            "type": "scatter"
           }
          ],
          "scatter3d": [
           {
            "line": {
             "colorbar": {
              "outlinewidth": 0,
              "ticks": ""
             }
            },
            "marker": {
             "colorbar": {
              "outlinewidth": 0,
              "ticks": ""
             }
            },
            "type": "scatter3d"
           }
          ],
          "scattercarpet": [
           {
            "marker": {
             "colorbar": {
              "outlinewidth": 0,
              "ticks": ""
             }
            },
            "type": "scattercarpet"
           }
          ],
          "scattergeo": [
           {
            "marker": {
             "colorbar": {
              "outlinewidth": 0,
              "ticks": ""
             }
            },
            "type": "scattergeo"
           }
          ],
          "scattergl": [
           {
            "marker": {
             "colorbar": {
              "outlinewidth": 0,
              "ticks": ""
             }
            },
            "type": "scattergl"
           }
          ],
          "scattermapbox": [
           {
            "marker": {
             "colorbar": {
              "outlinewidth": 0,
              "ticks": ""
             }
            },
            "type": "scattermapbox"
           }
          ],
          "scatterpolar": [
           {
            "marker": {
             "colorbar": {
              "outlinewidth": 0,
              "ticks": ""
             }
            },
            "type": "scatterpolar"
           }
          ],
          "scatterpolargl": [
           {
            "marker": {
             "colorbar": {
              "outlinewidth": 0,
              "ticks": ""
             }
            },
            "type": "scatterpolargl"
           }
          ],
          "scatterternary": [
           {
            "marker": {
             "colorbar": {
              "outlinewidth": 0,
              "ticks": ""
             }
            },
            "type": "scatterternary"
           }
          ],
          "surface": [
           {
            "colorbar": {
             "outlinewidth": 0,
             "ticks": ""
            },
            "colorscale": [
             [
              0,
              "#0d0887"
             ],
             [
              0.1111111111111111,
              "#46039f"
             ],
             [
              0.2222222222222222,
              "#7201a8"
             ],
             [
              0.3333333333333333,
              "#9c179e"
             ],
             [
              0.4444444444444444,
              "#bd3786"
             ],
             [
              0.5555555555555556,
              "#d8576b"
             ],
             [
              0.6666666666666666,
              "#ed7953"
             ],
             [
              0.7777777777777778,
              "#fb9f3a"
             ],
             [
              0.8888888888888888,
              "#fdca26"
             ],
             [
              1,
              "#f0f921"
             ]
            ],
            "type": "surface"
           }
          ],
          "table": [
           {
            "cells": {
             "fill": {
              "color": "#EBF0F8"
             },
             "line": {
              "color": "white"
             }
            },
            "header": {
             "fill": {
              "color": "#C8D4E3"
             },
             "line": {
              "color": "white"
             }
            },
            "type": "table"
           }
          ]
         },
         "layout": {
          "annotationdefaults": {
           "arrowcolor": "#2a3f5f",
           "arrowhead": 0,
           "arrowwidth": 1
          },
          "coloraxis": {
           "colorbar": {
            "outlinewidth": 0,
            "ticks": ""
           }
          },
          "colorscale": {
           "diverging": [
            [
             0,
             "#8e0152"
            ],
            [
             0.1,
             "#c51b7d"
            ],
            [
             0.2,
             "#de77ae"
            ],
            [
             0.3,
             "#f1b6da"
            ],
            [
             0.4,
             "#fde0ef"
            ],
            [
             0.5,
             "#f7f7f7"
            ],
            [
             0.6,
             "#e6f5d0"
            ],
            [
             0.7,
             "#b8e186"
            ],
            [
             0.8,
             "#7fbc41"
            ],
            [
             0.9,
             "#4d9221"
            ],
            [
             1,
             "#276419"
            ]
           ],
           "sequential": [
            [
             0,
             "#0d0887"
            ],
            [
             0.1111111111111111,
             "#46039f"
            ],
            [
             0.2222222222222222,
             "#7201a8"
            ],
            [
             0.3333333333333333,
             "#9c179e"
            ],
            [
             0.4444444444444444,
             "#bd3786"
            ],
            [
             0.5555555555555556,
             "#d8576b"
            ],
            [
             0.6666666666666666,
             "#ed7953"
            ],
            [
             0.7777777777777778,
             "#fb9f3a"
            ],
            [
             0.8888888888888888,
             "#fdca26"
            ],
            [
             1,
             "#f0f921"
            ]
           ],
           "sequentialminus": [
            [
             0,
             "#0d0887"
            ],
            [
             0.1111111111111111,
             "#46039f"
            ],
            [
             0.2222222222222222,
             "#7201a8"
            ],
            [
             0.3333333333333333,
             "#9c179e"
            ],
            [
             0.4444444444444444,
             "#bd3786"
            ],
            [
             0.5555555555555556,
             "#d8576b"
            ],
            [
             0.6666666666666666,
             "#ed7953"
            ],
            [
             0.7777777777777778,
             "#fb9f3a"
            ],
            [
             0.8888888888888888,
             "#fdca26"
            ],
            [
             1,
             "#f0f921"
            ]
           ]
          },
          "colorway": [
           "#636efa",
           "#EF553B",
           "#00cc96",
           "#ab63fa",
           "#FFA15A",
           "#19d3f3",
           "#FF6692",
           "#B6E880",
           "#FF97FF",
           "#FECB52"
          ],
          "font": {
           "color": "#2a3f5f"
          },
          "geo": {
           "bgcolor": "white",
           "lakecolor": "white",
           "landcolor": "#E5ECF6",
           "showlakes": true,
           "showland": true,
           "subunitcolor": "white"
          },
          "hoverlabel": {
           "align": "left"
          },
          "hovermode": "closest",
          "mapbox": {
           "style": "light"
          },
          "paper_bgcolor": "white",
          "plot_bgcolor": "#E5ECF6",
          "polar": {
           "angularaxis": {
            "gridcolor": "white",
            "linecolor": "white",
            "ticks": ""
           },
           "bgcolor": "#E5ECF6",
           "radialaxis": {
            "gridcolor": "white",
            "linecolor": "white",
            "ticks": ""
           }
          },
          "scene": {
           "xaxis": {
            "backgroundcolor": "#E5ECF6",
            "gridcolor": "white",
            "gridwidth": 2,
            "linecolor": "white",
            "showbackground": true,
            "ticks": "",
            "zerolinecolor": "white"
           },
           "yaxis": {
            "backgroundcolor": "#E5ECF6",
            "gridcolor": "white",
            "gridwidth": 2,
            "linecolor": "white",
            "showbackground": true,
            "ticks": "",
            "zerolinecolor": "white"
           },
           "zaxis": {
            "backgroundcolor": "#E5ECF6",
            "gridcolor": "white",
            "gridwidth": 2,
            "linecolor": "white",
            "showbackground": true,
            "ticks": "",
            "zerolinecolor": "white"
           }
          },
          "shapedefaults": {
           "line": {
            "color": "#2a3f5f"
           }
          },
          "ternary": {
           "aaxis": {
            "gridcolor": "white",
            "linecolor": "white",
            "ticks": ""
           },
           "baxis": {
            "gridcolor": "white",
            "linecolor": "white",
            "ticks": ""
           },
           "bgcolor": "#E5ECF6",
           "caxis": {
            "gridcolor": "white",
            "linecolor": "white",
            "ticks": ""
           }
          },
          "title": {
           "x": 0.05
          },
          "xaxis": {
           "automargin": true,
           "gridcolor": "white",
           "linecolor": "white",
           "ticks": "",
           "title": {
            "standoff": 15
           },
           "zerolinecolor": "white",
           "zerolinewidth": 2
          },
          "yaxis": {
           "automargin": true,
           "gridcolor": "white",
           "linecolor": "white",
           "ticks": "",
           "title": {
            "standoff": 15
           },
           "zerolinecolor": "white",
           "zerolinewidth": 2
          }
         }
        },
        "xaxis": {
         "anchor": "y",
         "domain": [
          0,
          0.7363
         ]
        },
        "xaxis2": {
         "anchor": "y2",
         "domain": [
          0.7413,
          1
         ],
         "matches": "x2",
         "showgrid": false,
         "showline": false,
         "showticklabels": false,
         "ticks": ""
        },
        "yaxis": {
         "anchor": "x",
         "domain": [
          0,
          1
         ],
         "title": {
          "text": "count"
         }
        },
        "yaxis2": {
         "anchor": "x2",
         "domain": [
          0,
          1
         ],
         "matches": "y",
         "showgrid": true,
         "showticklabels": false
        }
       }
      },
      "text/html": [
       "<div>\n",
       "        \n",
       "        \n",
       "            <div id=\"a2bdb1f6-9185-49e0-9a17-a591367c364a\" class=\"plotly-graph-div\" style=\"height:600px; width:100%;\"></div>\n",
       "            <script type=\"text/javascript\">\n",
       "                require([\"plotly\"], function(Plotly) {\n",
       "                    window.PLOTLYENV=window.PLOTLYENV || {};\n",
       "                    \n",
       "                if (document.getElementById(\"a2bdb1f6-9185-49e0-9a17-a591367c364a\")) {\n",
       "                    Plotly.newPlot(\n",
       "                        'a2bdb1f6-9185-49e0-9a17-a591367c364a',\n",
       "                        [{\"hoverlabel\": {\"namelength\": 0}, \"hovertemplate\": \"spray=A<br>count=%{y}\", \"legendgroup\": \"spray=A\", \"marker\": {\"color\": \"#636efa\", \"symbol\": \"circle\"}, \"mode\": \"markers\", \"name\": \"spray=A\", \"showlegend\": true, \"type\": \"scatter\", \"xaxis\": \"x\", \"y\": [61.53846153846154, 73.07692307692308, 23.07692307692308, 46.15384615384615, 46.15384615384615, 53.84615384615385, 61.53846153846154, 11.538461538461533, 34.61538461538461, 23.07692307692308, 46.15384615384615, 50.0], \"yaxis\": \"y\"}, {\"alignmentgroup\": \"True\", \"hoverlabel\": {\"namelength\": 0}, \"hovertemplate\": \"spray=A<br>count=%{y}\", \"legendgroup\": \"spray=A\", \"marker\": {\"color\": \"#636efa\", \"symbol\": \"circle\"}, \"name\": \"spray=A\", \"notched\": true, \"offsetgroup\": \"spray=A\", \"showlegend\": false, \"type\": \"box\", \"xaxis\": \"x2\", \"y\": [61.53846153846154, 73.07692307692308, 23.07692307692308, 46.15384615384615, 46.15384615384615, 53.84615384615385, 61.53846153846154, 11.538461538461533, 34.61538461538461, 23.07692307692308, 46.15384615384615, 50.0], \"yaxis\": \"y2\"}, {\"hoverlabel\": {\"namelength\": 0}, \"hovertemplate\": \"spray=A\", \"legendgroup\": \"spray=A\", \"marker\": {\"color\": \"#636efa\", \"symbol\": \"circle\"}, \"mode\": \"lines\", \"name\": \"spray=A\", \"showlegend\": false, \"type\": \"scatter\", \"xaxis\": \"x\", \"yaxis\": \"y\"}, {\"hoverlabel\": {\"namelength\": 0}, \"hovertemplate\": \"spray=B<br>count=%{y}\", \"legendgroup\": \"spray=B\", \"marker\": {\"color\": \"#EF553B\", \"symbol\": \"circle\"}, \"mode\": \"markers\", \"name\": \"spray=B\", \"showlegend\": true, \"type\": \"scatter\", \"xaxis\": \"x\", \"y\": [57.69230769230769, 34.61538461538461, 19.230769230769226, 57.69230769230769, 38.46153846153846, 46.15384615384615, 34.61538461538461, 34.61538461538461, 26.92307692307692, 19.230769230769226, 73.07692307692308, 50.0], \"yaxis\": \"y\"}, {\"alignmentgroup\": \"True\", \"hoverlabel\": {\"namelength\": 0}, \"hovertemplate\": \"spray=B<br>count=%{y}\", \"legendgroup\": \"spray=B\", \"marker\": {\"color\": \"#EF553B\", \"symbol\": \"circle\"}, \"name\": \"spray=B\", \"notched\": true, \"offsetgroup\": \"spray=B\", \"showlegend\": false, \"type\": \"box\", \"xaxis\": \"x2\", \"y\": [57.69230769230769, 34.61538461538461, 19.230769230769226, 57.69230769230769, 38.46153846153846, 46.15384615384615, 34.61538461538461, 34.61538461538461, 26.92307692307692, 19.230769230769226, 73.07692307692308, 50.0], \"yaxis\": \"y2\"}, {\"hoverlabel\": {\"namelength\": 0}, \"hovertemplate\": \"spray=B\", \"legendgroup\": \"spray=B\", \"marker\": {\"color\": \"#EF553B\", \"symbol\": \"circle\"}, \"mode\": \"lines\", \"name\": \"spray=B\", \"showlegend\": false, \"type\": \"scatter\", \"xaxis\": \"x\", \"yaxis\": \"y\"}, {\"hoverlabel\": {\"namelength\": 0}, \"hovertemplate\": \"spray=C<br>count=%{y}\", \"legendgroup\": \"spray=C\", \"marker\": {\"color\": \"#00cc96\", \"symbol\": \"circle\"}, \"mode\": \"markers\", \"name\": \"spray=C\", \"showlegend\": true, \"type\": \"scatter\", \"xaxis\": \"x\", \"y\": [100.0, 96.15384615384616, 73.07692307692308, 92.3076923076923, 88.46153846153847, 96.15384615384616, 92.3076923076923, 96.15384615384616, 88.46153846153847, 100.0, 96.15384615384616, 84.61538461538461], \"yaxis\": \"y\"}, {\"alignmentgroup\": \"True\", \"hoverlabel\": {\"namelength\": 0}, \"hovertemplate\": \"spray=C<br>count=%{y}\", \"legendgroup\": \"spray=C\", \"marker\": {\"color\": \"#00cc96\", \"symbol\": \"circle\"}, \"name\": \"spray=C\", \"notched\": true, \"offsetgroup\": \"spray=C\", \"showlegend\": false, \"type\": \"box\", \"xaxis\": \"x2\", \"y\": [100.0, 96.15384615384616, 73.07692307692308, 92.3076923076923, 88.46153846153847, 96.15384615384616, 92.3076923076923, 96.15384615384616, 88.46153846153847, 100.0, 96.15384615384616, 84.61538461538461], \"yaxis\": \"y2\"}, {\"hoverlabel\": {\"namelength\": 0}, \"hovertemplate\": \"spray=C\", \"legendgroup\": \"spray=C\", \"marker\": {\"color\": \"#00cc96\", \"symbol\": \"circle\"}, \"mode\": \"lines\", \"name\": \"spray=C\", \"showlegend\": false, \"type\": \"scatter\", \"xaxis\": \"x\", \"yaxis\": \"y\"}, {\"hoverlabel\": {\"namelength\": 0}, \"hovertemplate\": \"spray=D<br>count=%{y}\", \"legendgroup\": \"spray=D\", \"marker\": {\"color\": \"#ab63fa\", \"symbol\": \"circle\"}, \"mode\": \"markers\", \"name\": \"spray=D\", \"showlegend\": true, \"type\": \"scatter\", \"xaxis\": \"x\", \"y\": [88.46153846153847, 80.76923076923077, 53.84615384615385, 76.92307692307692, 84.61538461538461, 88.46153846153847, 80.76923076923077, 80.76923076923077, 80.76923076923077, 80.76923076923077, 92.3076923076923, 84.61538461538461], \"yaxis\": \"y\"}, {\"alignmentgroup\": \"True\", \"hoverlabel\": {\"namelength\": 0}, \"hovertemplate\": \"spray=D<br>count=%{y}\", \"legendgroup\": \"spray=D\", \"marker\": {\"color\": \"#ab63fa\", \"symbol\": \"circle\"}, \"name\": \"spray=D\", \"notched\": true, \"offsetgroup\": \"spray=D\", \"showlegend\": false, \"type\": \"box\", \"xaxis\": \"x2\", \"y\": [88.46153846153847, 80.76923076923077, 53.84615384615385, 76.92307692307692, 84.61538461538461, 88.46153846153847, 80.76923076923077, 80.76923076923077, 80.76923076923077, 80.76923076923077, 92.3076923076923, 84.61538461538461], \"yaxis\": \"y2\"}, {\"hoverlabel\": {\"namelength\": 0}, \"hovertemplate\": \"spray=D\", \"legendgroup\": \"spray=D\", \"marker\": {\"color\": \"#ab63fa\", \"symbol\": \"circle\"}, \"mode\": \"lines\", \"name\": \"spray=D\", \"showlegend\": false, \"type\": \"scatter\", \"xaxis\": \"x\", \"yaxis\": \"y\"}, {\"hoverlabel\": {\"namelength\": 0}, \"hovertemplate\": \"spray=E<br>count=%{y}\", \"legendgroup\": \"spray=E\", \"marker\": {\"color\": \"#FFA15A\", \"symbol\": \"circle\"}, \"mode\": \"markers\", \"name\": \"spray=E\", \"showlegend\": true, \"type\": \"scatter\", \"xaxis\": \"x\", \"y\": [88.46153846153847, 80.76923076923077, 88.46153846153847, 80.76923076923077, 88.46153846153847, 76.92307692307692, 96.15384615384616, 96.15384615384616, 88.46153846153847, 92.3076923076923, 76.92307692307692, 84.61538461538461], \"yaxis\": \"y\"}, {\"alignmentgroup\": \"True\", \"hoverlabel\": {\"namelength\": 0}, \"hovertemplate\": \"spray=E<br>count=%{y}\", \"legendgroup\": \"spray=E\", \"marker\": {\"color\": \"#FFA15A\", \"symbol\": \"circle\"}, \"name\": \"spray=E\", \"notched\": true, \"offsetgroup\": \"spray=E\", \"showlegend\": false, \"type\": \"box\", \"xaxis\": \"x2\", \"y\": [88.46153846153847, 80.76923076923077, 88.46153846153847, 80.76923076923077, 88.46153846153847, 76.92307692307692, 96.15384615384616, 96.15384615384616, 88.46153846153847, 92.3076923076923, 76.92307692307692, 84.61538461538461], \"yaxis\": \"y2\"}, {\"hoverlabel\": {\"namelength\": 0}, \"hovertemplate\": \"spray=E\", \"legendgroup\": \"spray=E\", \"marker\": {\"color\": \"#FFA15A\", \"symbol\": \"circle\"}, \"mode\": \"lines\", \"name\": \"spray=E\", \"showlegend\": false, \"type\": \"scatter\", \"xaxis\": \"x\", \"yaxis\": \"y\"}, {\"hoverlabel\": {\"namelength\": 0}, \"hovertemplate\": \"spray=F<br>count=%{y}\", \"legendgroup\": \"spray=F\", \"marker\": {\"color\": \"#19d3f3\", \"symbol\": \"circle\"}, \"mode\": \"markers\", \"name\": \"spray=F\", \"showlegend\": true, \"type\": \"scatter\", \"xaxis\": \"x\", \"y\": [57.69230769230769, 65.38461538461539, 42.30769230769231, 15.384615384615387, 42.30769230769231, 38.46153846153846, 50.0, 61.53846153846154, 0.0, 0.0, 7.692307692307693, 50.0], \"yaxis\": \"y\"}, {\"alignmentgroup\": \"True\", \"hoverlabel\": {\"namelength\": 0}, \"hovertemplate\": \"spray=F<br>count=%{y}\", \"legendgroup\": \"spray=F\", \"marker\": {\"color\": \"#19d3f3\", \"symbol\": \"circle\"}, \"name\": \"spray=F\", \"notched\": true, \"offsetgroup\": \"spray=F\", \"showlegend\": false, \"type\": \"box\", \"xaxis\": \"x2\", \"y\": [57.69230769230769, 65.38461538461539, 42.30769230769231, 15.384615384615387, 42.30769230769231, 38.46153846153846, 50.0, 61.53846153846154, 0.0, 0.0, 7.692307692307693, 50.0], \"yaxis\": \"y2\"}, {\"hoverlabel\": {\"namelength\": 0}, \"hovertemplate\": \"spray=F\", \"legendgroup\": \"spray=F\", \"marker\": {\"color\": \"#19d3f3\", \"symbol\": \"circle\"}, \"mode\": \"lines\", \"name\": \"spray=F\", \"showlegend\": false, \"type\": \"scatter\", \"xaxis\": \"x\", \"yaxis\": \"y\"}],\n",
       "                        {\"height\": 600, \"legend\": {\"tracegroupgap\": 0}, \"margin\": {\"t\": 60}, \"template\": {\"data\": {\"bar\": [{\"error_x\": {\"color\": \"#2a3f5f\"}, \"error_y\": {\"color\": \"#2a3f5f\"}, \"marker\": {\"line\": {\"color\": \"#E5ECF6\", \"width\": 0.5}}, \"type\": \"bar\"}], \"barpolar\": [{\"marker\": {\"line\": {\"color\": \"#E5ECF6\", \"width\": 0.5}}, \"type\": \"barpolar\"}], \"carpet\": [{\"aaxis\": {\"endlinecolor\": \"#2a3f5f\", \"gridcolor\": \"white\", \"linecolor\": \"white\", \"minorgridcolor\": \"white\", \"startlinecolor\": \"#2a3f5f\"}, \"baxis\": {\"endlinecolor\": \"#2a3f5f\", \"gridcolor\": \"white\", \"linecolor\": \"white\", \"minorgridcolor\": \"white\", \"startlinecolor\": \"#2a3f5f\"}, \"type\": \"carpet\"}], \"choropleth\": [{\"colorbar\": {\"outlinewidth\": 0, \"ticks\": \"\"}, \"type\": \"choropleth\"}], \"contour\": [{\"colorbar\": {\"outlinewidth\": 0, \"ticks\": \"\"}, \"colorscale\": [[0.0, \"#0d0887\"], [0.1111111111111111, \"#46039f\"], [0.2222222222222222, \"#7201a8\"], [0.3333333333333333, \"#9c179e\"], [0.4444444444444444, \"#bd3786\"], [0.5555555555555556, \"#d8576b\"], [0.6666666666666666, \"#ed7953\"], [0.7777777777777778, \"#fb9f3a\"], [0.8888888888888888, \"#fdca26\"], [1.0, \"#f0f921\"]], \"type\": \"contour\"}], \"contourcarpet\": [{\"colorbar\": {\"outlinewidth\": 0, \"ticks\": \"\"}, \"type\": \"contourcarpet\"}], \"heatmap\": [{\"colorbar\": {\"outlinewidth\": 0, \"ticks\": \"\"}, \"colorscale\": [[0.0, \"#0d0887\"], [0.1111111111111111, \"#46039f\"], [0.2222222222222222, \"#7201a8\"], [0.3333333333333333, \"#9c179e\"], [0.4444444444444444, \"#bd3786\"], [0.5555555555555556, \"#d8576b\"], [0.6666666666666666, \"#ed7953\"], [0.7777777777777778, \"#fb9f3a\"], [0.8888888888888888, \"#fdca26\"], [1.0, \"#f0f921\"]], \"type\": \"heatmap\"}], \"heatmapgl\": [{\"colorbar\": {\"outlinewidth\": 0, \"ticks\": \"\"}, \"colorscale\": [[0.0, \"#0d0887\"], [0.1111111111111111, \"#46039f\"], [0.2222222222222222, \"#7201a8\"], [0.3333333333333333, \"#9c179e\"], [0.4444444444444444, \"#bd3786\"], [0.5555555555555556, \"#d8576b\"], [0.6666666666666666, \"#ed7953\"], [0.7777777777777778, \"#fb9f3a\"], [0.8888888888888888, \"#fdca26\"], [1.0, \"#f0f921\"]], \"type\": \"heatmapgl\"}], \"histogram\": [{\"marker\": {\"colorbar\": {\"outlinewidth\": 0, \"ticks\": \"\"}}, \"type\": \"histogram\"}], \"histogram2d\": [{\"colorbar\": {\"outlinewidth\": 0, \"ticks\": \"\"}, \"colorscale\": [[0.0, \"#0d0887\"], [0.1111111111111111, \"#46039f\"], [0.2222222222222222, \"#7201a8\"], [0.3333333333333333, \"#9c179e\"], [0.4444444444444444, \"#bd3786\"], [0.5555555555555556, \"#d8576b\"], [0.6666666666666666, \"#ed7953\"], [0.7777777777777778, \"#fb9f3a\"], [0.8888888888888888, \"#fdca26\"], [1.0, \"#f0f921\"]], \"type\": \"histogram2d\"}], \"histogram2dcontour\": [{\"colorbar\": {\"outlinewidth\": 0, \"ticks\": \"\"}, \"colorscale\": [[0.0, \"#0d0887\"], [0.1111111111111111, \"#46039f\"], [0.2222222222222222, \"#7201a8\"], [0.3333333333333333, \"#9c179e\"], [0.4444444444444444, \"#bd3786\"], [0.5555555555555556, \"#d8576b\"], [0.6666666666666666, \"#ed7953\"], [0.7777777777777778, \"#fb9f3a\"], [0.8888888888888888, \"#fdca26\"], [1.0, \"#f0f921\"]], \"type\": \"histogram2dcontour\"}], \"mesh3d\": [{\"colorbar\": {\"outlinewidth\": 0, \"ticks\": \"\"}, \"type\": \"mesh3d\"}], \"parcoords\": [{\"line\": {\"colorbar\": {\"outlinewidth\": 0, \"ticks\": \"\"}}, \"type\": \"parcoords\"}], \"pie\": [{\"automargin\": true, \"type\": \"pie\"}], \"scatter\": [{\"marker\": {\"colorbar\": {\"outlinewidth\": 0, \"ticks\": \"\"}}, \"type\": \"scatter\"}], \"scatter3d\": [{\"line\": {\"colorbar\": {\"outlinewidth\": 0, \"ticks\": \"\"}}, \"marker\": {\"colorbar\": {\"outlinewidth\": 0, \"ticks\": \"\"}}, \"type\": \"scatter3d\"}], \"scattercarpet\": [{\"marker\": {\"colorbar\": {\"outlinewidth\": 0, \"ticks\": \"\"}}, \"type\": \"scattercarpet\"}], \"scattergeo\": [{\"marker\": {\"colorbar\": {\"outlinewidth\": 0, \"ticks\": \"\"}}, \"type\": \"scattergeo\"}], \"scattergl\": [{\"marker\": {\"colorbar\": {\"outlinewidth\": 0, \"ticks\": \"\"}}, \"type\": \"scattergl\"}], \"scattermapbox\": [{\"marker\": {\"colorbar\": {\"outlinewidth\": 0, \"ticks\": \"\"}}, \"type\": \"scattermapbox\"}], \"scatterpolar\": [{\"marker\": {\"colorbar\": {\"outlinewidth\": 0, \"ticks\": \"\"}}, \"type\": \"scatterpolar\"}], \"scatterpolargl\": [{\"marker\": {\"colorbar\": {\"outlinewidth\": 0, \"ticks\": \"\"}}, \"type\": \"scatterpolargl\"}], \"scatterternary\": [{\"marker\": {\"colorbar\": {\"outlinewidth\": 0, \"ticks\": \"\"}}, \"type\": \"scatterternary\"}], \"surface\": [{\"colorbar\": {\"outlinewidth\": 0, \"ticks\": \"\"}, \"colorscale\": [[0.0, \"#0d0887\"], [0.1111111111111111, \"#46039f\"], [0.2222222222222222, \"#7201a8\"], [0.3333333333333333, \"#9c179e\"], [0.4444444444444444, \"#bd3786\"], [0.5555555555555556, \"#d8576b\"], [0.6666666666666666, \"#ed7953\"], [0.7777777777777778, \"#fb9f3a\"], [0.8888888888888888, \"#fdca26\"], [1.0, \"#f0f921\"]], \"type\": \"surface\"}], \"table\": [{\"cells\": {\"fill\": {\"color\": \"#EBF0F8\"}, \"line\": {\"color\": \"white\"}}, \"header\": {\"fill\": {\"color\": \"#C8D4E3\"}, \"line\": {\"color\": \"white\"}}, \"type\": \"table\"}]}, \"layout\": {\"annotationdefaults\": {\"arrowcolor\": \"#2a3f5f\", \"arrowhead\": 0, \"arrowwidth\": 1}, \"coloraxis\": {\"colorbar\": {\"outlinewidth\": 0, \"ticks\": \"\"}}, \"colorscale\": {\"diverging\": [[0, \"#8e0152\"], [0.1, \"#c51b7d\"], [0.2, \"#de77ae\"], [0.3, \"#f1b6da\"], [0.4, \"#fde0ef\"], [0.5, \"#f7f7f7\"], [0.6, \"#e6f5d0\"], [0.7, \"#b8e186\"], [0.8, \"#7fbc41\"], [0.9, \"#4d9221\"], [1, \"#276419\"]], \"sequential\": [[0.0, \"#0d0887\"], [0.1111111111111111, \"#46039f\"], [0.2222222222222222, \"#7201a8\"], [0.3333333333333333, \"#9c179e\"], [0.4444444444444444, \"#bd3786\"], [0.5555555555555556, \"#d8576b\"], [0.6666666666666666, \"#ed7953\"], [0.7777777777777778, \"#fb9f3a\"], [0.8888888888888888, \"#fdca26\"], [1.0, \"#f0f921\"]], \"sequentialminus\": [[0.0, \"#0d0887\"], [0.1111111111111111, \"#46039f\"], [0.2222222222222222, \"#7201a8\"], [0.3333333333333333, \"#9c179e\"], [0.4444444444444444, \"#bd3786\"], [0.5555555555555556, \"#d8576b\"], [0.6666666666666666, \"#ed7953\"], [0.7777777777777778, \"#fb9f3a\"], [0.8888888888888888, \"#fdca26\"], [1.0, \"#f0f921\"]]}, \"colorway\": [\"#636efa\", \"#EF553B\", \"#00cc96\", \"#ab63fa\", \"#FFA15A\", \"#19d3f3\", \"#FF6692\", \"#B6E880\", \"#FF97FF\", \"#FECB52\"], \"font\": {\"color\": \"#2a3f5f\"}, \"geo\": {\"bgcolor\": \"white\", \"lakecolor\": \"white\", \"landcolor\": \"#E5ECF6\", \"showlakes\": true, \"showland\": true, \"subunitcolor\": \"white\"}, \"hoverlabel\": {\"align\": \"left\"}, \"hovermode\": \"closest\", \"mapbox\": {\"style\": \"light\"}, \"paper_bgcolor\": \"white\", \"plot_bgcolor\": \"#E5ECF6\", \"polar\": {\"angularaxis\": {\"gridcolor\": \"white\", \"linecolor\": \"white\", \"ticks\": \"\"}, \"bgcolor\": \"#E5ECF6\", \"radialaxis\": {\"gridcolor\": \"white\", \"linecolor\": \"white\", \"ticks\": \"\"}}, \"scene\": {\"xaxis\": {\"backgroundcolor\": \"#E5ECF6\", \"gridcolor\": \"white\", \"gridwidth\": 2, \"linecolor\": \"white\", \"showbackground\": true, \"ticks\": \"\", \"zerolinecolor\": \"white\"}, \"yaxis\": {\"backgroundcolor\": \"#E5ECF6\", \"gridcolor\": \"white\", \"gridwidth\": 2, \"linecolor\": \"white\", \"showbackground\": true, \"ticks\": \"\", \"zerolinecolor\": \"white\"}, \"zaxis\": {\"backgroundcolor\": \"#E5ECF6\", \"gridcolor\": \"white\", \"gridwidth\": 2, \"linecolor\": \"white\", \"showbackground\": true, \"ticks\": \"\", \"zerolinecolor\": \"white\"}}, \"shapedefaults\": {\"line\": {\"color\": \"#2a3f5f\"}}, \"ternary\": {\"aaxis\": {\"gridcolor\": \"white\", \"linecolor\": \"white\", \"ticks\": \"\"}, \"baxis\": {\"gridcolor\": \"white\", \"linecolor\": \"white\", \"ticks\": \"\"}, \"bgcolor\": \"#E5ECF6\", \"caxis\": {\"gridcolor\": \"white\", \"linecolor\": \"white\", \"ticks\": \"\"}}, \"title\": {\"x\": 0.05}, \"xaxis\": {\"automargin\": true, \"gridcolor\": \"white\", \"linecolor\": \"white\", \"ticks\": \"\", \"title\": {\"standoff\": 15}, \"zerolinecolor\": \"white\", \"zerolinewidth\": 2}, \"yaxis\": {\"automargin\": true, \"gridcolor\": \"white\", \"linecolor\": \"white\", \"ticks\": \"\", \"title\": {\"standoff\": 15}, \"zerolinecolor\": \"white\", \"zerolinewidth\": 2}}}, \"xaxis\": {\"anchor\": \"y\", \"domain\": [0.0, 0.7363]}, \"xaxis2\": {\"anchor\": \"y2\", \"domain\": [0.7413, 1.0], \"matches\": \"x2\", \"showgrid\": false, \"showline\": false, \"showticklabels\": false, \"ticks\": \"\"}, \"yaxis\": {\"anchor\": \"x\", \"domain\": [0.0, 1.0], \"title\": {\"text\": \"count\"}}, \"yaxis2\": {\"anchor\": \"x2\", \"domain\": [0.0, 1.0], \"matches\": \"y\", \"showgrid\": true, \"showticklabels\": false}},\n",
       "                        {\"responsive\": true}\n",
       "                    ).then(function(){\n",
       "                            \n",
       "var gd = document.getElementById('a2bdb1f6-9185-49e0-9a17-a591367c364a');\n",
       "var x = new MutationObserver(function (mutations, observer) {{\n",
       "        var display = window.getComputedStyle(gd).display;\n",
       "        if (!display || display === 'none') {{\n",
       "            console.log([gd, 'removed!']);\n",
       "            Plotly.purge(gd);\n",
       "            observer.disconnect();\n",
       "        }}\n",
       "}});\n",
       "\n",
       "// Listen for the removal of the full notebook cells\n",
       "var notebookContainer = gd.closest('#notebook-container');\n",
       "if (notebookContainer) {{\n",
       "    x.observe(notebookContainer, {childList: true});\n",
       "}}\n",
       "\n",
       "// Listen for the clearing of the current output cell\n",
       "var outputEl = gd.closest('.output');\n",
       "if (outputEl) {{\n",
       "    x.observe(outputEl, {childList: true});\n",
       "}}\n",
       "\n",
       "                        })\n",
       "                };\n",
       "                });\n",
       "            </script>\n",
       "        </div>"
      ]
     },
     "metadata": {},
     "output_type": "display_data"
    }
   ],
   "source": [
    "# print plots for each spray\n",
    "fig = px.scatter(data,y=\"count\", color=\"spray\", marginal_y=\"box\", trendline=\"ols\")\n",
    "fig.show()"
   ]
  },
  {
   "cell_type": "code",
   "execution_count": null,
   "metadata": {},
   "outputs": [],
   "source": []
  }
 ],
 "metadata": {
  "kernelspec": {
   "display_name": "Python 3",
   "language": "python",
   "name": "python3"
  },
  "language_info": {
   "codemirror_mode": {
    "name": "ipython",
    "version": 3
   },
   "file_extension": ".py",
   "mimetype": "text/x-python",
   "name": "python",
   "nbconvert_exporter": "python",
   "pygments_lexer": "ipython3",
   "version": "3.7.3"
  }
 },
 "nbformat": 4,
 "nbformat_minor": 2
}
