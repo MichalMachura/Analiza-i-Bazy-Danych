{
 "cells": [
  {
   "cell_type": "code",
   "execution_count": 1,
   "metadata": {
    "scrolled": true
   },
   "outputs": [],
   "source": [
    "import re\n",
    "\n",
    "file = open('../Orginal Data/weather/weather.txt')\n",
    "data = file.read()\n",
    "file.close()\n",
    "\n",
    "data = re.sub('[BDS]?[\\t ]+(OI|OS|SI|I+|S+)[\\t ]*',',',data)\n",
    "data = re.sub('[\\t ]+',',',data)\n",
    "data = re.sub('\\s*,[\\t ]*\\n','\\n',data)\n",
    "data = re.sub('MX000017004(\\d\\d\\d\\d)(\\d\\d)(\\w\\w\\w\\w)','\\g<1>-\\g<2>,\\g<3>',data)\n",
    "data = data.replace('-9999','')\n",
    "\n",
    "# creating header\n",
    "header = 'year-month,var'\n",
    "for i in range(1,32):\n",
    "    header += ',D'+str(i)\n",
    "    \n",
    "# connect header with data\n",
    "data = header+'\\n'+data\n",
    "\n",
    "# save file as station_name.csv \n",
    "file = open('../Orginal Data/weather/MX000017004_.csv','w')\n",
    "file.write(data)\n",
    "file.close()\n"
   ]
  },
  {
   "cell_type": "code",
   "execution_count": 9,
   "metadata": {
    "scrolled": true
   },
   "outputs": [],
   "source": [
    "import pandas as pd\n",
    "import math\n",
    "\n",
    "file = '../Orginal Data/weather/MX000017004_.csv'\n",
    "\n",
    "data = pd.read_csv(file)\n",
    "data_new = {}\n",
    "counter = 0\n",
    "\n",
    "for row in data.itertuples():\n",
    "    for day in range(1,32):\n",
    "        day_ = row[1]+'-'+str(i).zfill(2)\n",
    "        \n",
    "        value = row[2+day]\n",
    "            \n",
    "        entry = {row[2]: value}\n",
    "        \n",
    "        if day_ in data_new.keys():\n",
    "            entry = {**data_new[day_], **entry}\n",
    "        \n",
    "        data_new[day_] = entry \n",
    "        \n",
    "data_new = pd.DataFrame(data_new).T.query('TMAX != \"NaN\" or TMIN != \"NaN\" or PRCP != \"NaN\"')\n",
    "        \n",
    "file = open('../Analysis Data/MX000017004_tidy.csv', 'w')\n",
    "file.write('DAY' + data_new.to_csv())\n",
    "file.close()"
   ]
  },
  {
   "cell_type": "code",
   "execution_count": 11,
   "metadata": {
    "scrolled": true
   },
   "outputs": [
    {
     "data": {
      "text/html": [
       "<div>\n",
       "<style scoped>\n",
       "    .dataframe tbody tr th:only-of-type {\n",
       "        vertical-align: middle;\n",
       "    }\n",
       "\n",
       "    .dataframe tbody tr th {\n",
       "        vertical-align: top;\n",
       "    }\n",
       "\n",
       "    .dataframe thead th {\n",
       "        text-align: right;\n",
       "    }\n",
       "</style>\n",
       "<table border=\"1\" class=\"dataframe\">\n",
       "  <thead>\n",
       "    <tr style=\"text-align: right;\">\n",
       "      <th></th>\n",
       "      <th>TMAX</th>\n",
       "      <th>TMIN</th>\n",
       "      <th>PRCP</th>\n",
       "    </tr>\n",
       "  </thead>\n",
       "  <tbody>\n",
       "    <tr>\n",
       "      <td>1955-0531</td>\n",
       "      <td>290.0</td>\n",
       "      <td>160.0</td>\n",
       "      <td>46.0</td>\n",
       "    </tr>\n",
       "    <tr>\n",
       "      <td>1955-0731</td>\n",
       "      <td>260.0</td>\n",
       "      <td>140.0</td>\n",
       "      <td>6.0</td>\n",
       "    </tr>\n",
       "    <tr>\n",
       "      <td>1955-0831</td>\n",
       "      <td>250.0</td>\n",
       "      <td>150.0</td>\n",
       "      <td>64.0</td>\n",
       "    </tr>\n",
       "    <tr>\n",
       "      <td>1955-1031</td>\n",
       "      <td>250.0</td>\n",
       "      <td>150.0</td>\n",
       "      <td>0.0</td>\n",
       "    </tr>\n",
       "    <tr>\n",
       "      <td>1955-1231</td>\n",
       "      <td>230.0</td>\n",
       "      <td>90.0</td>\n",
       "      <td>0.0</td>\n",
       "    </tr>\n",
       "  </tbody>\n",
       "</table>\n",
       "</div>"
      ],
      "text/plain": [
       "            TMAX   TMIN  PRCP\n",
       "1955-0531  290.0  160.0  46.0\n",
       "1955-0731  260.0  140.0   6.0\n",
       "1955-0831  250.0  150.0  64.0\n",
       "1955-1031  250.0  150.0   0.0\n",
       "1955-1231  230.0   90.0   0.0"
      ]
     },
     "execution_count": 11,
     "metadata": {},
     "output_type": "execute_result"
    }
   ],
   "source": [
    "data_new.head()"
   ]
  }
 ],
 "metadata": {
  "kernelspec": {
   "display_name": "Python 3",
   "language": "python",
   "name": "python3"
  },
  "language_info": {
   "codemirror_mode": {
    "name": "ipython",
    "version": 3
   },
   "file_extension": ".py",
   "mimetype": "text/x-python",
   "name": "python",
   "nbconvert_exporter": "python",
   "pygments_lexer": "ipython3",
   "version": "3.7.3"
  }
 },
 "nbformat": 4,
 "nbformat_minor": 2
}
