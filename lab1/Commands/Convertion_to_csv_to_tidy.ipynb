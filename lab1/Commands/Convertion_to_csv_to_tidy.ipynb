{
 "cells": [
  {
   "cell_type": "code",
   "execution_count": 1,
   "metadata": {},
   "outputs": [],
   "source": [
    "import re\n",
    "import pandas as pd\n",
    "import math\n"
   ]
  },
  {
   "cell_type": "code",
   "execution_count": 2,
   "metadata": {
    "scrolled": true
   },
   "outputs": [],
   "source": [
    "# read file\n",
    "file = open('../Orginal Data/weather.txt')\n",
    "data = file.read()\n",
    "file.close()\n",
    "\n",
    "# remove non standard data separators\n",
    "data = re.sub('[BDS]?[\\t ]+(OI|OS|SI|I+|S+)[\\t ]*',',',data)\n",
    "data = re.sub('[\\t ]+',',',data)\n",
    "data = re.sub('\\s*,[\\t ]*\\n','\\n',data)\n",
    "data = re.sub('MX000017004(\\d\\d\\d\\d)(\\d\\d)(\\w\\w\\w\\w)','\\g<1>-\\g<2>,\\g<3>',data)\n",
    "# remove wrong data\n",
    "data = data.replace('-9999','')\n",
    "\n",
    "# creating header\n",
    "header = 'year-month,var'\n",
    "for i in range(1,32):\n",
    "    header += ',D'+str(i)\n",
    "    \n",
    "# connect header with data\n",
    "data = header+'\\n'+data\n",
    "\n",
    "# save file as station_name.csv \n",
    "file = open('../Orginal Data/MX000017004_.csv','w')\n",
    "file.write(data)\n",
    "file.close()"
   ]
  },
  {
   "cell_type": "code",
   "execution_count": 3,
   "metadata": {
    "scrolled": true
   },
   "outputs": [],
   "source": [
    "file = '../Orginal Data/MX000017004_.csv'\n",
    "\n",
    "data = pd.read_csv(file)\n",
    "data_new = {}\n",
    "counter = 0\n",
    "# reshape table wide to long\n",
    "# for each row of wide table\n",
    "for row in data.itertuples():\n",
    "    # for each day's column \n",
    "    for day in range(1,32):\n",
    "        # create data 'year-month'+'-day'\n",
    "        day_ = row[1]+'-'+str(day).zfill(2)\n",
    "        # get value of variable \n",
    "        value = row[2+day]\n",
    "        # create entry variable : value\n",
    "        # where variable is TMIN, TMAX, PRCP\n",
    "        entry = {row[2]: value}\n",
    "        \n",
    "        # if entry for day_ was added, then extend it\n",
    "        if day_ in data_new.keys():\n",
    "            entry = {**data_new[day_], **entry}\n",
    "        # replace or add updated/new entry\n",
    "        data_new[day_] = entry \n",
    "        \n",
    "# create data frame from dicts\n",
    "data_new = pd.DataFrame(data_new).T.query('TMAX != \"NaN\" or TMIN != \"NaN\" or PRCP != \"NaN\"')\n",
    "        \n",
    "# save fle     \n",
    "file = open('../Analysis Data/MX000017004_tidy.csv', 'w')\n",
    "file.write('DAY' + data_new.to_csv())\n",
    "file.close()"
   ]
  },
  {
   "cell_type": "code",
   "execution_count": 4,
   "metadata": {},
   "outputs": [
    {
     "data": {
      "text/html": [
       "<div>\n",
       "<style scoped>\n",
       "    .dataframe tbody tr th:only-of-type {\n",
       "        vertical-align: middle;\n",
       "    }\n",
       "\n",
       "    .dataframe tbody tr th {\n",
       "        vertical-align: top;\n",
       "    }\n",
       "\n",
       "    .dataframe thead th {\n",
       "        text-align: right;\n",
       "    }\n",
       "</style>\n",
       "<table border=\"1\" class=\"dataframe\">\n",
       "  <thead>\n",
       "    <tr style=\"text-align: right;\">\n",
       "      <th></th>\n",
       "      <th>TMAX</th>\n",
       "      <th>TMIN</th>\n",
       "      <th>PRCP</th>\n",
       "    </tr>\n",
       "  </thead>\n",
       "  <tbody>\n",
       "    <tr>\n",
       "      <td>1955-04-01</td>\n",
       "      <td>310.0</td>\n",
       "      <td>150.0</td>\n",
       "      <td>0.0</td>\n",
       "    </tr>\n",
       "    <tr>\n",
       "      <td>1955-04-02</td>\n",
       "      <td>310.0</td>\n",
       "      <td>150.0</td>\n",
       "      <td>0.0</td>\n",
       "    </tr>\n",
       "    <tr>\n",
       "      <td>1955-04-03</td>\n",
       "      <td>310.0</td>\n",
       "      <td>160.0</td>\n",
       "      <td>0.0</td>\n",
       "    </tr>\n",
       "    <tr>\n",
       "      <td>1955-04-04</td>\n",
       "      <td>320.0</td>\n",
       "      <td>150.0</td>\n",
       "      <td>0.0</td>\n",
       "    </tr>\n",
       "    <tr>\n",
       "      <td>1955-04-05</td>\n",
       "      <td>330.0</td>\n",
       "      <td>160.0</td>\n",
       "      <td>0.0</td>\n",
       "    </tr>\n",
       "  </tbody>\n",
       "</table>\n",
       "</div>"
      ],
      "text/plain": [
       "             TMAX   TMIN  PRCP\n",
       "1955-04-01  310.0  150.0   0.0\n",
       "1955-04-02  310.0  150.0   0.0\n",
       "1955-04-03  310.0  160.0   0.0\n",
       "1955-04-04  320.0  150.0   0.0\n",
       "1955-04-05  330.0  160.0   0.0"
      ]
     },
     "execution_count": 4,
     "metadata": {},
     "output_type": "execute_result"
    }
   ],
   "source": [
    "# show data\n",
    "data_new.head()\n"
   ]
  },
  {
   "cell_type": "code",
   "execution_count": null,
   "metadata": {},
   "outputs": [],
   "source": []
  }
 ],
 "metadata": {
  "kernelspec": {
   "display_name": "Python 3",
   "language": "python",
   "name": "python3"
  },
  "language_info": {
   "codemirror_mode": {
    "name": "ipython",
    "version": 3
   },
   "file_extension": ".py",
   "mimetype": "text/x-python",
   "name": "python",
   "nbconvert_exporter": "python",
   "pygments_lexer": "ipython3",
   "version": "3.7.3"
  }
 },
 "nbformat": 4,
 "nbformat_minor": 2
}
