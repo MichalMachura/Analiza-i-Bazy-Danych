{
 "cells": [
  {
   "cell_type": "code",
   "execution_count": 4,
   "metadata": {},
   "outputs": [],
   "source": [
    "import psycopg2 as pg\n",
    "import pandas.io.sql as psql\n",
    "import pandas as pd\n",
    "connection = pg.connect(host='localhost',\n",
    "                        port=5432, \n",
    "                        dbname='dvdrental', \n",
    "                        user='postgres', \n",
    "                        password='admin')"
   ]
  },
  {
   "cell_type": "code",
   "execution_count": 5,
   "metadata": {},
   "outputs": [
    {
     "name": "stdout",
     "output_type": "stream",
     "text": [
      "     city_id                city  country_id         last_update\n",
      "0          1  A Corua (La Corua)          87 2006-02-15 09:45:25\n",
      "1          2                Abha          82 2006-02-15 09:45:25\n",
      "2          3           Abu Dhabi         101 2006-02-15 09:45:25\n",
      "3          4                Acua          60 2006-02-15 09:45:25\n",
      "4          5               Adana          97 2006-02-15 09:45:25\n",
      "..       ...                 ...         ...                 ...\n",
      "595      596               Zaria          69 2006-02-15 09:45:25\n",
      "596      597        Zeleznogorsk          80 2006-02-15 09:45:25\n",
      "597      598         Zhezqazghan          51 2006-02-15 09:45:25\n",
      "598      599            Zhoushan          23 2006-02-15 09:45:25\n",
      "599      600          Ziguinchor          83 2006-02-15 09:45:25\n",
      "\n",
      "[600 rows x 4 columns]\n"
     ]
    }
   ],
   "source": [
    "df = pd.read_sql_query('select * from city',con=connection) \n",
    "print(df)"
   ]
  },
  {
   "cell_type": "code",
   "execution_count": null,
   "metadata": {},
   "outputs": [],
   "source": []
  }
 ],
 "metadata": {
  "kernelspec": {
   "display_name": "Python 3",
   "language": "python",
   "name": "python3"
  },
  "language_info": {
   "codemirror_mode": {
    "name": "ipython",
    "version": 3
   },
   "file_extension": ".py",
   "mimetype": "text/x-python",
   "name": "python",
   "nbconvert_exporter": "python",
   "pygments_lexer": "ipython3",
   "version": "3.7.3"
  }
 },
 "nbformat": 4,
 "nbformat_minor": 2
}
